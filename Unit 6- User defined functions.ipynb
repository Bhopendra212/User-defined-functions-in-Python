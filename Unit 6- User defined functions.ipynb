{
 "cells": [
  {
   "cell_type": "code",
   "execution_count": 1,
   "id": "d1d48afb-fdbf-4b73-8d28-8e97f543ea38",
   "metadata": {},
   "outputs": [],
   "source": [
    "def success():\n",
    "    print('Python is a high level language')\n",
    "    print('python is important for data science')\n",
    "    print('python is case sensitive language')"
   ]
  },
  {
   "cell_type": "code",
   "execution_count": 2,
   "id": "a3a484de-5b04-4602-922b-1045f719322b",
   "metadata": {},
   "outputs": [
    {
     "name": "stdout",
     "output_type": "stream",
     "text": [
      "15\n",
      "Python is a high level language\n",
      "python is important for data science\n",
      "python is case sensitive language\n"
     ]
    }
   ],
   "source": [
    "a=5\n",
    "b=10\n",
    "print(a+b)\n",
    "success()"
   ]
  },
  {
   "cell_type": "code",
   "execution_count": 3,
   "id": "b782facc-3621-48df-8906-68867b302fce",
   "metadata": {},
   "outputs": [
    {
     "name": "stdout",
     "output_type": "stream",
     "text": [
      "15\n",
      "Python is a high level language\n",
      "python is important for data science\n",
      "python is case sensitive language\n",
      "612\n",
      "Python is a high level language\n",
      "python is important for data science\n",
      "python is case sensitive language\n"
     ]
    }
   ],
   "source": [
    "a=5\n",
    "b=10\n",
    "print(a+b)\n",
    "success()\n",
    "m=15\n",
    "n=16\n",
    "o=12\n",
    "print((m*n)+(n*o)+(m*o))\n",
    "success()"
   ]
  },
  {
   "cell_type": "code",
   "execution_count": null,
   "id": "3ad235d9-d8fb-45b4-bf59-e02d8e6a01c2",
   "metadata": {},
   "outputs": [],
   "source": [
    "\"\"\" Write a program to make a report of a patient to calculate the BMI and take input like weight, height,HB and do this for 3 patients\"\"\""
   ]
  },
  {
   "cell_type": "code",
   "execution_count": 5,
   "id": "0ec02930-9eae-4468-8503-8db3ae99124b",
   "metadata": {},
   "outputs": [],
   "source": [
    "def dietplan():\n",
    "    print('This is your diet plan')\n",
    "    print('Take milk in the breakfast')\n",
    "    print('In lunch eat some protein')\n",
    "    print('take some cereals in the dinner')\n",
    "    print('do regular exercise')\n",
    "    print('morning walk is most recommended')"
   ]
  },
  {
   "cell_type": "code",
   "execution_count": 11,
   "id": "35f883a9-bb87-4128-9c9c-ea29973ee45c",
   "metadata": {},
   "outputs": [
    {
     "name": "stdin",
     "output_type": "stream",
     "text": [
      "Enter your weight 60\n",
      "Enter your height 6\n",
      "Enter your HB 10\n"
     ]
    },
    {
     "name": "stdout",
     "output_type": "stream",
     "text": [
      "Patients BMI is 10.0\n",
      "This is your diet plan\n",
      "Take milk in the breakfast\n",
      "In lunch eat some protein\n",
      "take some cereals in the dinner\n",
      "do regular exercise\n",
      "morning walk is most recommended\n"
     ]
    },
    {
     "name": "stdin",
     "output_type": "stream",
     "text": [
      "Enter your weight 55\n",
      "Enter your height 5\n",
      "Enter your HB 12\n"
     ]
    },
    {
     "name": "stdout",
     "output_type": "stream",
     "text": [
      "Patients BMI is 11.0\n",
      "This is your diet plan\n",
      "Take milk in the breakfast\n",
      "In lunch eat some protein\n",
      "take some cereals in the dinner\n",
      "do regular exercise\n",
      "morning walk is most recommended\n"
     ]
    },
    {
     "name": "stdin",
     "output_type": "stream",
     "text": [
      "Enter your weight 78\n",
      "Enter your height 5\n",
      "Enter your HB 11\n"
     ]
    },
    {
     "name": "stdout",
     "output_type": "stream",
     "text": [
      "Patients BMI is 15.6\n",
      "This is your diet plan\n",
      "Take milk in the breakfast\n",
      "In lunch eat some protein\n",
      "take some cereals in the dinner\n",
      "do regular exercise\n",
      "morning walk is most recommended\n"
     ]
    },
    {
     "name": "stdin",
     "output_type": "stream",
     "text": [
      "Enter your weight 90\n",
      "Enter your height 6\n",
      "Enter your HB 13\n"
     ]
    },
    {
     "name": "stdout",
     "output_type": "stream",
     "text": [
      "Patients BMI is 15.0\n",
      "This is your diet plan\n",
      "Take milk in the breakfast\n",
      "In lunch eat some protein\n",
      "take some cereals in the dinner\n",
      "do regular exercise\n",
      "morning walk is most recommended\n"
     ]
    },
    {
     "name": "stdin",
     "output_type": "stream",
     "text": [
      "Enter your weight 85\n",
      "Enter your height 5\n",
      "Enter your HB 10\n"
     ]
    },
    {
     "name": "stdout",
     "output_type": "stream",
     "text": [
      "Patients BMI is 17.0\n",
      "This is your diet plan\n",
      "Take milk in the breakfast\n",
      "In lunch eat some protein\n",
      "take some cereals in the dinner\n",
      "do regular exercise\n",
      "morning walk is most recommended\n"
     ]
    },
    {
     "name": "stdin",
     "output_type": "stream",
     "text": [
      "Enter your weight 100\n",
      "Enter your height 6\n",
      "Enter your HB 12\n"
     ]
    },
    {
     "name": "stdout",
     "output_type": "stream",
     "text": [
      "Patients BMI is 16.666666666666668\n",
      "This is your diet plan\n",
      "Take milk in the breakfast\n",
      "In lunch eat some protein\n",
      "take some cereals in the dinner\n",
      "do regular exercise\n",
      "morning walk is most recommended\n"
     ]
    },
    {
     "ename": "KeyboardInterrupt",
     "evalue": "Interrupted by user",
     "output_type": "error",
     "traceback": [
      "\u001b[1;31m---------------------------------------------------------------------------\u001b[0m",
      "\u001b[1;31mKeyboardInterrupt\u001b[0m                         Traceback (most recent call last)",
      "Cell \u001b[1;32mIn[11], line 3\u001b[0m\n\u001b[0;32m      1\u001b[0m n\u001b[38;5;241m=\u001b[39m\u001b[38;5;241m5\u001b[39m\n\u001b[0;32m      2\u001b[0m \u001b[38;5;28;01mwhile\u001b[39;00m n\u001b[38;5;241m<\u001b[39m\u001b[38;5;241m=\u001b[39m\u001b[38;5;241m5\u001b[39m:\n\u001b[1;32m----> 3\u001b[0m     a\u001b[38;5;241m=\u001b[39m\u001b[38;5;28mint\u001b[39m(\u001b[38;5;28;43minput\u001b[39;49m\u001b[43m(\u001b[49m\u001b[38;5;124;43m'\u001b[39;49m\u001b[38;5;124;43mEnter your weight\u001b[39;49m\u001b[38;5;124;43m'\u001b[39;49m\u001b[43m)\u001b[49m)\n\u001b[0;32m      4\u001b[0m     b\u001b[38;5;241m=\u001b[39m\u001b[38;5;28mint\u001b[39m(\u001b[38;5;28minput\u001b[39m(\u001b[38;5;124m'\u001b[39m\u001b[38;5;124mEnter your height\u001b[39m\u001b[38;5;124m'\u001b[39m))\n\u001b[0;32m      5\u001b[0m     c\u001b[38;5;241m=\u001b[39m\u001b[38;5;28mint\u001b[39m(\u001b[38;5;28minput\u001b[39m(\u001b[38;5;124m'\u001b[39m\u001b[38;5;124mEnter your HB\u001b[39m\u001b[38;5;124m'\u001b[39m))\n",
      "File \u001b[1;32m~\\AppData\\Local\\Programs\\Python\\Python311\\Lib\\site-packages\\ipykernel\\kernelbase.py:1202\u001b[0m, in \u001b[0;36mKernel.raw_input\u001b[1;34m(self, prompt)\u001b[0m\n\u001b[0;32m   1200\u001b[0m     msg \u001b[38;5;241m=\u001b[39m \u001b[38;5;124m\"\u001b[39m\u001b[38;5;124mraw_input was called, but this frontend does not support input requests.\u001b[39m\u001b[38;5;124m\"\u001b[39m\n\u001b[0;32m   1201\u001b[0m     \u001b[38;5;28;01mraise\u001b[39;00m StdinNotImplementedError(msg)\n\u001b[1;32m-> 1202\u001b[0m \u001b[38;5;28;01mreturn\u001b[39;00m \u001b[38;5;28;43mself\u001b[39;49m\u001b[38;5;241;43m.\u001b[39;49m\u001b[43m_input_request\u001b[49m\u001b[43m(\u001b[49m\n\u001b[0;32m   1203\u001b[0m \u001b[43m    \u001b[49m\u001b[38;5;28;43mstr\u001b[39;49m\u001b[43m(\u001b[49m\u001b[43mprompt\u001b[49m\u001b[43m)\u001b[49m\u001b[43m,\u001b[49m\n\u001b[0;32m   1204\u001b[0m \u001b[43m    \u001b[49m\u001b[38;5;28;43mself\u001b[39;49m\u001b[38;5;241;43m.\u001b[39;49m\u001b[43m_parent_ident\u001b[49m\u001b[43m[\u001b[49m\u001b[38;5;124;43m\"\u001b[39;49m\u001b[38;5;124;43mshell\u001b[39;49m\u001b[38;5;124;43m\"\u001b[39;49m\u001b[43m]\u001b[49m\u001b[43m,\u001b[49m\n\u001b[0;32m   1205\u001b[0m \u001b[43m    \u001b[49m\u001b[38;5;28;43mself\u001b[39;49m\u001b[38;5;241;43m.\u001b[39;49m\u001b[43mget_parent\u001b[49m\u001b[43m(\u001b[49m\u001b[38;5;124;43m\"\u001b[39;49m\u001b[38;5;124;43mshell\u001b[39;49m\u001b[38;5;124;43m\"\u001b[39;49m\u001b[43m)\u001b[49m\u001b[43m,\u001b[49m\n\u001b[0;32m   1206\u001b[0m \u001b[43m    \u001b[49m\u001b[43mpassword\u001b[49m\u001b[38;5;241;43m=\u001b[39;49m\u001b[38;5;28;43;01mFalse\u001b[39;49;00m\u001b[43m,\u001b[49m\n\u001b[0;32m   1207\u001b[0m \u001b[43m\u001b[49m\u001b[43m)\u001b[49m\n",
      "File \u001b[1;32m~\\AppData\\Local\\Programs\\Python\\Python311\\Lib\\site-packages\\ipykernel\\kernelbase.py:1245\u001b[0m, in \u001b[0;36mKernel._input_request\u001b[1;34m(self, prompt, ident, parent, password)\u001b[0m\n\u001b[0;32m   1242\u001b[0m \u001b[38;5;28;01mexcept\u001b[39;00m \u001b[38;5;167;01mKeyboardInterrupt\u001b[39;00m:\n\u001b[0;32m   1243\u001b[0m     \u001b[38;5;66;03m# re-raise KeyboardInterrupt, to truncate traceback\u001b[39;00m\n\u001b[0;32m   1244\u001b[0m     msg \u001b[38;5;241m=\u001b[39m \u001b[38;5;124m\"\u001b[39m\u001b[38;5;124mInterrupted by user\u001b[39m\u001b[38;5;124m\"\u001b[39m\n\u001b[1;32m-> 1245\u001b[0m     \u001b[38;5;28;01mraise\u001b[39;00m \u001b[38;5;167;01mKeyboardInterrupt\u001b[39;00m(msg) \u001b[38;5;28;01mfrom\u001b[39;00m \u001b[38;5;28;01mNone\u001b[39;00m\n\u001b[0;32m   1246\u001b[0m \u001b[38;5;28;01mexcept\u001b[39;00m \u001b[38;5;167;01mException\u001b[39;00m:\n\u001b[0;32m   1247\u001b[0m     \u001b[38;5;28mself\u001b[39m\u001b[38;5;241m.\u001b[39mlog\u001b[38;5;241m.\u001b[39mwarning(\u001b[38;5;124m\"\u001b[39m\u001b[38;5;124mInvalid Message:\u001b[39m\u001b[38;5;124m\"\u001b[39m, exc_info\u001b[38;5;241m=\u001b[39m\u001b[38;5;28;01mTrue\u001b[39;00m)\n",
      "\u001b[1;31mKeyboardInterrupt\u001b[0m: Interrupted by user"
     ]
    }
   ],
   "source": [
    "n=5\n",
    "while n<=5:\n",
    "    a=int(input('Enter your weight'))\n",
    "    b=int(input('Enter your height'))\n",
    "    c=int(input('Enter your HB'))\n",
    "    BMI=a/b\n",
    "    print('Patients BMI is', BMI)\n",
    "    dietplan()\n",
    "n+=1"
   ]
  },
  {
   "cell_type": "markdown",
   "id": "a049c909-4c5b-4c1a-a037-70edd00c1704",
   "metadata": {},
   "source": [
    "# Doc string"
   ]
  },
  {
   "cell_type": "code",
   "execution_count": 12,
   "id": "7249b725-20aa-40d4-ad48-a0c73bd9a7b4",
   "metadata": {},
   "outputs": [],
   "source": [
    "def learn():\n",
    "    \"\"\" This function does nothing except printing\"\"\"\n",
    "    print('Hello i am a student')\n",
    "    print('python is so easy')\n",
    "    "
   ]
  },
  {
   "cell_type": "code",
   "execution_count": 13,
   "id": "89eb378b-068d-4e2c-8460-b175af229138",
   "metadata": {},
   "outputs": [
    {
     "name": "stdout",
     "output_type": "stream",
     "text": [
      "Hello i am a student\n",
      "python is so easy\n"
     ]
    }
   ],
   "source": [
    "learn()"
   ]
  },
  {
   "cell_type": "code",
   "execution_count": 14,
   "id": "1b741e8e-f23b-4462-9bc6-eccb67a97566",
   "metadata": {},
   "outputs": [
    {
     "data": {
      "text/plain": [
       "\u001b[1;31mSignature:\u001b[0m \u001b[0mlearn\u001b[0m\u001b[1;33m(\u001b[0m\u001b[1;33m)\u001b[0m\u001b[1;33m\u001b[0m\u001b[1;33m\u001b[0m\u001b[0m\n",
       "\u001b[1;31mDocstring:\u001b[0m This function does nothing except printing\n",
       "\u001b[1;31mFile:\u001b[0m      c:\\users\\hp\\appdata\\local\\temp\\ipykernel_10732\\6443453.py\n",
       "\u001b[1;31mType:\u001b[0m      function"
      ]
     },
     "metadata": {},
     "output_type": "display_data"
    }
   ],
   "source": [
    "learn?"
   ]
  },
  {
   "cell_type": "markdown",
   "id": "35a215c6-022a-4f84-87f3-2bb6b7701f02",
   "metadata": {},
   "source": [
    "# Function input arguments"
   ]
  },
  {
   "cell_type": "code",
   "execution_count": 1,
   "id": "1f1216b2-977a-47b0-ad02-a859b5961f61",
   "metadata": {},
   "outputs": [],
   "source": [
    "def happy(a):\n",
    "    print(a)\n",
    "    print(type(a))\n",
    "    print('We are learning about arguments')"
   ]
  },
  {
   "cell_type": "code",
   "execution_count": 2,
   "id": "75d5ad33-e88c-44d4-a695-4cfbcd577c2c",
   "metadata": {},
   "outputs": [
    {
     "name": "stdout",
     "output_type": "stream",
     "text": [
      "24\n",
      "<class 'int'>\n",
      "We are learning about arguments\n"
     ]
    }
   ],
   "source": [
    "happy(24)"
   ]
  },
  {
   "cell_type": "code",
   "execution_count": 3,
   "id": "fd62c212-0fcb-4624-99c8-4b0eabd6933e",
   "metadata": {},
   "outputs": [
    {
     "name": "stdout",
     "output_type": "stream",
     "text": [
      "2.56\n",
      "<class 'float'>\n",
      "We are learning about arguments\n"
     ]
    }
   ],
   "source": [
    "happy(2.56)"
   ]
  },
  {
   "cell_type": "code",
   "execution_count": 4,
   "id": "b57d9fe1-d8dd-4910-9c24-9a9a31fe660a",
   "metadata": {},
   "outputs": [],
   "source": [
    "\"\"\"Take a string as input argument and print it\"\"\"\n",
    "\n",
    "def printmessege(msg):\n",
    "    if isinstance(msg,str):\n",
    "        print(msg)\n",
    "    else:\n",
    "        print('The input you have given is not string type')\n",
    "        print('Input given is',type(msg))"
   ]
  },
  {
   "cell_type": "code",
   "execution_count": 5,
   "id": "8e070a87-3416-4fa8-87b2-1e0f92d3928f",
   "metadata": {},
   "outputs": [
    {
     "name": "stdout",
     "output_type": "stream",
     "text": [
      "The input you have given is not string type\n",
      "Input given is <class 'int'>\n"
     ]
    }
   ],
   "source": [
    "printmessege(22)"
   ]
  },
  {
   "cell_type": "code",
   "execution_count": 6,
   "id": "f6c71b5f-d243-49f8-bea2-f44bbf079ab9",
   "metadata": {},
   "outputs": [
    {
     "name": "stdout",
     "output_type": "stream",
     "text": [
      "My name is Rishi\n"
     ]
    }
   ],
   "source": [
    "printmessege('My name is Rishi')"
   ]
  },
  {
   "cell_type": "code",
   "execution_count": 7,
   "id": "0a51141c-eebc-43c4-9f68-5d19c890690b",
   "metadata": {},
   "outputs": [],
   "source": [
    "def mypower(a,b):\n",
    "    c=a**b\n",
    "    print(c)\n",
    "    print('2 arguments passed in the function')"
   ]
  },
  {
   "cell_type": "code",
   "execution_count": 8,
   "id": "0671f3ec-3f76-4b1d-b9d4-4fcc37772558",
   "metadata": {},
   "outputs": [
    {
     "name": "stdout",
     "output_type": "stream",
     "text": [
      "16\n",
      "2 arguments passed in the function\n"
     ]
    }
   ],
   "source": [
    "mypower(2,4)"
   ]
  },
  {
   "cell_type": "code",
   "execution_count": 12,
   "id": "fea7d426-0b8e-4992-9543-b962021b375e",
   "metadata": {},
   "outputs": [],
   "source": [
    "def testing(a,b,c):\n",
    "    if isinstance(a,(int,float)) and isinstance(b,(int,float)) and isinstance(c,(int,float)):\n",
    "        print((a+b+c)**2)\n",
    "    else:\n",
    "        print('not valid')"
   ]
  },
  {
   "cell_type": "code",
   "execution_count": 14,
   "id": "ed280028-a686-4f84-9036-8f0b05473c09",
   "metadata": {},
   "outputs": [
    {
     "name": "stdout",
     "output_type": "stream",
     "text": [
      "81\n"
     ]
    }
   ],
   "source": [
    "testing(2,3,4)"
   ]
  },
  {
   "cell_type": "code",
   "execution_count": 15,
   "id": "305a954d-e378-4019-be6d-788650b03465",
   "metadata": {},
   "outputs": [],
   "source": [
    "def practical(a,b,c,d):\n",
    "    print(a+c)\n",
    "    print(a+b)\n",
    "    print(d)"
   ]
  },
  {
   "cell_type": "code",
   "execution_count": 16,
   "id": "c7b284dc-4fc8-439b-b16f-f829dac44bff",
   "metadata": {},
   "outputs": [
    {
     "name": "stdout",
     "output_type": "stream",
     "text": [
      "8\n",
      "7\n",
      "students\n"
     ]
    }
   ],
   "source": [
    "practical(5,2,3,'students')"
   ]
  },
  {
   "cell_type": "markdown",
   "id": "bf807277-6e52-4822-a552-111b57ab56cd",
   "metadata": {},
   "source": [
    "# Order of input arguments"
   ]
  },
  {
   "cell_type": "code",
   "execution_count": 17,
   "id": "a4bfa8a9-68ac-4a88-b9b1-30fec1b36d56",
   "metadata": {},
   "outputs": [],
   "source": [
    "def fun(a,b,c):\n",
    "    print('A is',a)\n",
    "    print('B is',b)\n",
    "    print('C is',c)"
   ]
  },
  {
   "cell_type": "code",
   "execution_count": 18,
   "id": "6efe53d4-80c5-4031-a13e-1f5b8dee810d",
   "metadata": {},
   "outputs": [
    {
     "name": "stdout",
     "output_type": "stream",
     "text": [
      "A is 2\n",
      "B is 3\n",
      "C is 4\n"
     ]
    }
   ],
   "source": [
    "fun(2,3,4)"
   ]
  },
  {
   "cell_type": "markdown",
   "id": "3b12f296-f5a9-40e0-9929-b26a2555d60d",
   "metadata": {},
   "source": [
    "# Global and Local Variable"
   ]
  },
  {
   "cell_type": "code",
   "execution_count": 19,
   "id": "fd068e60-58fa-4b60-a289-9bbd47e51a41",
   "metadata": {},
   "outputs": [
    {
     "name": "stdout",
     "output_type": "stream",
     "text": [
      "12\n"
     ]
    }
   ],
   "source": [
    "t=12            #Global variable\n",
    "def myfunc():\n",
    "    g=5         #Local variable\n",
    "    print(g)\n",
    "    print('Variables')\n",
    "print(t)"
   ]
  },
  {
   "cell_type": "code",
   "execution_count": 20,
   "id": "e1089035-1c91-4f8e-9e3f-15156a5bca3d",
   "metadata": {},
   "outputs": [
    {
     "name": "stdout",
     "output_type": "stream",
     "text": [
      "5\n",
      "Variables\n"
     ]
    }
   ],
   "source": [
    "myfunc()"
   ]
  },
  {
   "cell_type": "markdown",
   "id": "63b68fd6-707d-4b99-ab4a-953d42d52bd1",
   "metadata": {},
   "source": [
    "# Return statement"
   ]
  },
  {
   "cell_type": "code",
   "execution_count": 25,
   "id": "c93fd5a4-7138-4bee-8b02-0ea3d039fc4d",
   "metadata": {},
   "outputs": [],
   "source": [
    "def demo():\n",
    "    x=(2+3)**2\n",
    "    return x"
   ]
  },
  {
   "cell_type": "code",
   "execution_count": 26,
   "id": "738c69d0-d3ad-488b-a8d4-ebde0202798b",
   "metadata": {},
   "outputs": [
    {
     "data": {
      "text/plain": [
       "25"
      ]
     },
     "execution_count": 26,
     "metadata": {},
     "output_type": "execute_result"
    }
   ],
   "source": [
    "demo()"
   ]
  },
  {
   "cell_type": "code",
   "execution_count": 27,
   "id": "be4b6f01-81a3-46c9-89f2-610835da8174",
   "metadata": {},
   "outputs": [],
   "source": [
    "def demo1(a):\n",
    "    a=a+2\n",
    "    print('We are learning return statement')\n",
    "    return a"
   ]
  },
  {
   "cell_type": "code",
   "execution_count": 29,
   "id": "279ece12-1209-4e3b-b0e0-a512dc646245",
   "metadata": {},
   "outputs": [
    {
     "name": "stdout",
     "output_type": "stream",
     "text": [
      "We are learning return statement\n"
     ]
    },
    {
     "data": {
      "text/plain": [
       "7"
      ]
     },
     "execution_count": 29,
     "metadata": {},
     "output_type": "execute_result"
    }
   ],
   "source": [
    "demo1(5)"
   ]
  },
  {
   "cell_type": "code",
   "execution_count": 30,
   "id": "884dd4b4-8549-4827-89be-5603228ab3fa",
   "metadata": {},
   "outputs": [],
   "source": [
    "\"\"\" Write a program to find out simple interest\"\"\"\n",
    "\n",
    "def SI(p,n,r):\n",
    "    si=(p*n*r)/100\n",
    "    print('Simple interest is Rs',si)\n",
    "    return si"
   ]
  },
  {
   "cell_type": "code",
   "execution_count": 31,
   "id": "a122b65c-4666-435d-b151-25d225efdfb9",
   "metadata": {},
   "outputs": [
    {
     "name": "stdout",
     "output_type": "stream",
     "text": [
      "Simple interest is Rs 1400.0\n"
     ]
    },
    {
     "data": {
      "text/plain": [
       "1400.0"
      ]
     },
     "execution_count": 31,
     "metadata": {},
     "output_type": "execute_result"
    }
   ],
   "source": [
    "SI(10000,2,7)"
   ]
  },
  {
   "cell_type": "markdown",
   "id": "36ba57e0-dd08-4c1f-83fa-ce132ce5c2d1",
   "metadata": {},
   "source": [
    "# Variable length arguments\n",
    "# *args (No-keyword function)"
   ]
  },
  {
   "cell_type": "code",
   "execution_count": 10,
   "id": "8b9c71e1-f361-4dd6-8b80-1c974eafa6e5",
   "metadata": {},
   "outputs": [],
   "source": [
    "def argfunc(*args):\n",
    "    s=0\n",
    "    for i in range(len(args)):\n",
    "        s=s+args[i]\n",
    "    print(s)"
   ]
  },
  {
   "cell_type": "code",
   "execution_count": 11,
   "id": "0d1a8070-148c-424f-bdde-1b4dce555eae",
   "metadata": {},
   "outputs": [
    {
     "name": "stdout",
     "output_type": "stream",
     "text": [
      "54\n"
     ]
    }
   ],
   "source": [
    "argfunc(2,3,4,5,6,7,8,9,10)"
   ]
  },
  {
   "cell_type": "markdown",
   "id": "0413cfb2-65cb-4ecc-9f60-986d4dfb79c0",
   "metadata": {},
   "source": [
    "# **kwargs (Keyword function)"
   ]
  },
  {
   "cell_type": "code",
   "execution_count": 14,
   "id": "a0fbdae9-b4f8-40ec-b2f4-f1f6f9f707c2",
   "metadata": {},
   "outputs": [],
   "source": [
    "def practical(**kwargs):\n",
    "    for x in kwargs:\n",
    "        print(kwargs,kwargs[x])"
   ]
  },
  {
   "cell_type": "code",
   "execution_count": 15,
   "id": "ae3c68eb-84b6-4035-b948-d7a43798a4cc",
   "metadata": {},
   "outputs": [
    {
     "name": "stdout",
     "output_type": "stream",
     "text": [
      "{'a': 'lion', 'b': 2.3, 'c': 25} lion\n",
      "{'a': 'lion', 'b': 2.3, 'c': 25} 2.3\n",
      "{'a': 'lion', 'b': 2.3, 'c': 25} 25\n"
     ]
    }
   ],
   "source": [
    "practical(a='lion',b=2.3,c=25)"
   ]
  },
  {
   "cell_type": "code",
   "execution_count": 16,
   "id": "e3a026aa-6a0f-4744-9fce-a93d316a914f",
   "metadata": {},
   "outputs": [],
   "source": [
    "def practical(**kwargs):\n",
    "    for x in kwargs:\n",
    "        print(kwargs,kwargs[x])"
   ]
  },
  {
   "cell_type": "code",
   "execution_count": 17,
   "id": "674d419b-4f9b-4557-a25f-268d5df56abb",
   "metadata": {},
   "outputs": [
    {
     "name": "stdout",
     "output_type": "stream",
     "text": [
      "{'a': 5.5, 'b': 105.24, 'c': 85.5} 5.5\n",
      "{'a': 5.5, 'b': 105.24, 'c': 85.5} 105.24\n",
      "{'a': 5.5, 'b': 105.24, 'c': 85.5} 85.5\n"
     ]
    }
   ],
   "source": [
    "practical(a=5.5,b=105.24,c=85.5)"
   ]
  },
  {
   "cell_type": "markdown",
   "id": "de405f28-77d2-48fd-9757-0dc30d092d99",
   "metadata": {},
   "source": [
    "# Generator function"
   ]
  },
  {
   "cell_type": "code",
   "execution_count": 18,
   "id": "76d7647c-6ee6-480b-8b21-8882e9f4e817",
   "metadata": {},
   "outputs": [],
   "source": [
    "def test_fib(n):\n",
    "    a=0\n",
    "    b=1\n",
    "    for i in range(n):\n",
    "        yield a\n",
    "        a,b=b,a+b"
   ]
  },
  {
   "cell_type": "code",
   "execution_count": 19,
   "id": "7532e627-f2f6-4724-9455-ccca26e5f3fb",
   "metadata": {},
   "outputs": [
    {
     "data": {
      "text/plain": [
       "<generator object test_fib at 0x00000141A28E2980>"
      ]
     },
     "execution_count": 19,
     "metadata": {},
     "output_type": "execute_result"
    }
   ],
   "source": [
    "test_fib(10)"
   ]
  },
  {
   "cell_type": "code",
   "execution_count": 20,
   "id": "77c0b63b-6432-4ad7-ad68-0b55175fa510",
   "metadata": {},
   "outputs": [
    {
     "name": "stdout",
     "output_type": "stream",
     "text": [
      "0\n",
      "1\n",
      "1\n",
      "2\n",
      "3\n",
      "5\n",
      "8\n",
      "13\n",
      "21\n",
      "34\n"
     ]
    }
   ],
   "source": [
    "for i in test_fib(10):\n",
    "    print(i)"
   ]
  },
  {
   "cell_type": "markdown",
   "id": "afc240ea-3e6f-4767-811f-d07e0bdba24e",
   "metadata": {},
   "source": [
    "# Lambda function"
   ]
  },
  {
   "cell_type": "code",
   "execution_count": 21,
   "id": "db422a2b-2e18-4dea-9dab-b59de7e33167",
   "metadata": {},
   "outputs": [],
   "source": [
    "n=3\n",
    "p=2\n",
    "def test(n,p):\n",
    "    return n**p"
   ]
  },
  {
   "cell_type": "code",
   "execution_count": 22,
   "id": "f7158e64-c9a3-4987-aecf-243a7417b660",
   "metadata": {},
   "outputs": [
    {
     "data": {
      "text/plain": [
       "9"
      ]
     },
     "execution_count": 22,
     "metadata": {},
     "output_type": "execute_result"
    }
   ],
   "source": [
    "test(3,2)"
   ]
  },
  {
   "cell_type": "code",
   "execution_count": 24,
   "id": "836ef715-3977-43d9-a321-273405efbfb1",
   "metadata": {},
   "outputs": [
    {
     "data": {
      "text/plain": [
       "9"
      ]
     },
     "execution_count": 24,
     "metadata": {},
     "output_type": "execute_result"
    }
   ],
   "source": [
    "a=lambda n,p: n**p\n",
    "a(3,2)"
   ]
  },
  {
   "cell_type": "code",
   "execution_count": 26,
   "id": "2cf2c009-37ed-442a-a204-9a5f1276e3a2",
   "metadata": {},
   "outputs": [
    {
     "data": {
      "text/plain": [
       "5"
      ]
     },
     "execution_count": 26,
     "metadata": {},
     "output_type": "execute_result"
    }
   ],
   "source": [
    "add=lambda x,y: x+y\n",
    "add(2,3)"
   ]
  },
  {
   "cell_type": "code",
   "execution_count": null,
   "id": "fbf8364d-ad8b-40e3-a465-cce8850232f8",
   "metadata": {},
   "outputs": [],
   "source": []
  },
  {
   "cell_type": "code",
   "execution_count": null,
   "id": "56e91e4f-8d57-4ef0-b4b2-2e9cda361983",
   "metadata": {},
   "outputs": [],
   "source": []
  }
 ],
 "metadata": {
  "kernelspec": {
   "display_name": "Python 3 (ipykernel)",
   "language": "python",
   "name": "python3"
  },
  "language_info": {
   "codemirror_mode": {
    "name": "ipython",
    "version": 3
   },
   "file_extension": ".py",
   "mimetype": "text/x-python",
   "name": "python",
   "nbconvert_exporter": "python",
   "pygments_lexer": "ipython3",
   "version": "3.11.5"
  }
 },
 "nbformat": 4,
 "nbformat_minor": 5
}
