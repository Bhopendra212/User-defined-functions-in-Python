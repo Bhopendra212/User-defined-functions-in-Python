{
 "cells": [
  {
   "cell_type": "code",
   "execution_count": 1,
   "id": "53af286a-38de-47ca-bba6-648ae3877f65",
   "metadata": {},
   "outputs": [
    {
     "name": "stdout",
     "output_type": "stream",
     "text": [
      "My Name Is Rishi\n"
     ]
    }
   ],
   "source": [
    "def rishi():\n",
    "    print('My Name Is Rishi')\n",
    "rishi()"
   ]
  },
  {
   "cell_type": "code",
   "execution_count": 2,
   "id": "5e54c5e2-59d5-41b6-9513-060a4f304a92",
   "metadata": {},
   "outputs": [
    {
     "name": "stdout",
     "output_type": "stream",
     "text": [
      "My Name Is Rishi\n"
     ]
    }
   ],
   "source": [
    "rishi()"
   ]
  },
  {
   "cell_type": "code",
   "execution_count": 6,
   "id": "37e0eb2a-9e04-4816-a083-e433a5ae02eb",
   "metadata": {},
   "outputs": [],
   "source": [
    "def myfunction():\n",
    "    print('hello class')\n",
    "    print('welcome to class')"
   ]
  },
  {
   "cell_type": "code",
   "execution_count": 4,
   "id": "e2b0cb82-55cc-4214-8341-d358d09951d5",
   "metadata": {},
   "outputs": [],
   "source": [
    "#calling a function"
   ]
  },
  {
   "cell_type": "code",
   "execution_count": 7,
   "id": "44156c2b-6e5b-4981-84a4-be8673d92a4d",
   "metadata": {},
   "outputs": [
    {
     "name": "stdout",
     "output_type": "stream",
     "text": [
      "hello class\n",
      "welcome to class\n"
     ]
    }
   ],
   "source": [
    "myfunction()"
   ]
  },
  {
   "cell_type": "code",
   "execution_count": 8,
   "id": "bbfbb451-dd8a-4ee9-b6ef-ddd469dd010f",
   "metadata": {},
   "outputs": [],
   "source": [
    "# Making the result of students"
   ]
  },
  {
   "cell_type": "code",
   "execution_count": 9,
   "id": "95405465-1f0e-40c3-a2d7-52dfb8527836",
   "metadata": {},
   "outputs": [],
   "source": [
    "def contact():\n",
    "    print('Contact details of the school')\n",
    "    print('Delhi public school')\n",
    "    print('Mumbai Maharashtra')\n",
    "    print('9916455965')\n",
    "    print('dps@contactdetails.com')"
   ]
  },
  {
   "cell_type": "code",
   "execution_count": 12,
   "id": "60458061-06aa-41d6-aac9-add9a35a6239",
   "metadata": {},
   "outputs": [
    {
     "name": "stdin",
     "output_type": "stream",
     "text": [
      "Name of the student Rishabh\n",
      "Enter the marks of Maths 87\n",
      "Enter the marks of Science 85\n",
      "Enter the marks of Social 90\n"
     ]
    },
    {
     "name": "stdout",
     "output_type": "stream",
     "text": [
      "\n",
      "Contact details of the school\n",
      "Delhi public school\n",
      "Mumbai Maharashtra\n",
      "9916455965\n",
      "dps@contactdetails.com\n"
     ]
    },
    {
     "name": "stdin",
     "output_type": "stream",
     "text": [
      "Name of the student Rishi\n",
      "Enter the marks of Maths 80\n",
      "Enter the marks of Science 91\n",
      "Enter the marks of Social 76\n"
     ]
    },
    {
     "name": "stdout",
     "output_type": "stream",
     "text": [
      "\n",
      "Contact details of the school\n",
      "Delhi public school\n",
      "Mumbai Maharashtra\n",
      "9916455965\n",
      "dps@contactdetails.com\n"
     ]
    },
    {
     "name": "stdin",
     "output_type": "stream",
     "text": [
      "Name of the student Rakhi\n",
      "Enter the marks of Maths 50\n",
      "Enter the marks of Science 48\n",
      "Enter the marks of Social 56\n"
     ]
    },
    {
     "name": "stdout",
     "output_type": "stream",
     "text": [
      "\n",
      "Contact details of the school\n",
      "Delhi public school\n",
      "Mumbai Maharashtra\n",
      "9916455965\n",
      "dps@contactdetails.com\n"
     ]
    },
    {
     "name": "stdin",
     "output_type": "stream",
     "text": [
      "Name of the student Rupesh\n",
      "Enter the marks of Maths 75\n",
      "Enter the marks of Science 73\n",
      "Enter the marks of Social 81\n"
     ]
    },
    {
     "name": "stdout",
     "output_type": "stream",
     "text": [
      "\n",
      "Contact details of the school\n",
      "Delhi public school\n",
      "Mumbai Maharashtra\n",
      "9916455965\n",
      "dps@contactdetails.com\n"
     ]
    }
   ],
   "source": [
    "for i in range(4):\n",
    "    a=input('Name of the student')\n",
    "    b=int(input('Enter the marks of Maths'))\n",
    "    c=int(input('Enter the marks of Science'))\n",
    "    d=int(input('Enter the marks of Social'))\n",
    "    print()\n",
    "    contact()"
   ]
  },
  {
   "cell_type": "code",
   "execution_count": 13,
   "id": "9a84ffaf-044f-4a51-8901-23e061fb12ec",
   "metadata": {},
   "outputs": [],
   "source": [
    "#Arguments"
   ]
  },
  {
   "cell_type": "code",
   "execution_count": 25,
   "id": "a409e2eb-dea8-4f25-b62c-50859b047e9d",
   "metadata": {},
   "outputs": [],
   "source": [
    "def Rishi(fname):\n",
    "    print(fname + \" \" + 'choudhary')"
   ]
  },
  {
   "cell_type": "code",
   "execution_count": 26,
   "id": "8e7a4205-1b6f-4816-8406-fd335dd2aa64",
   "metadata": {},
   "outputs": [
    {
     "name": "stdout",
     "output_type": "stream",
     "text": [
      "Rakhi choudhary\n"
     ]
    }
   ],
   "source": [
    "Rishi('Rakhi')"
   ]
  },
  {
   "cell_type": "code",
   "execution_count": 27,
   "id": "bfa64982-f7d8-43ab-ba05-93b7b764a285",
   "metadata": {},
   "outputs": [
    {
     "name": "stdout",
     "output_type": "stream",
     "text": [
      "Rishabh choudhary\n"
     ]
    }
   ],
   "source": [
    "Rishi('Rishabh')"
   ]
  },
  {
   "cell_type": "code",
   "execution_count": 28,
   "id": "ca40359b-2f94-4f0f-b7c8-eea0fc102daa",
   "metadata": {},
   "outputs": [
    {
     "name": "stdout",
     "output_type": "stream",
     "text": [
      "Rajkiran choudhary\n"
     ]
    }
   ],
   "source": [
    "Rishi('Rajkiran')"
   ]
  },
  {
   "cell_type": "code",
   "execution_count": 29,
   "id": "2ac65970-6a68-47fa-8002-5263bb29a63b",
   "metadata": {},
   "outputs": [],
   "source": [
    "def Rishi(fname,lname):\n",
    "    print(fname + \" \" + lname)"
   ]
  },
  {
   "cell_type": "code",
   "execution_count": 30,
   "id": "4c7cf94a-c6e0-4618-8111-e38eab1222b6",
   "metadata": {},
   "outputs": [
    {
     "name": "stdout",
     "output_type": "stream",
     "text": [
      "Rishu choudhary\n"
     ]
    }
   ],
   "source": [
    "Rishi('Rishu','choudhary')"
   ]
  },
  {
   "cell_type": "code",
   "execution_count": 31,
   "id": "3d815657-9f55-4472-9b7a-61d8b0c58177",
   "metadata": {},
   "outputs": [],
   "source": [
    "# Write a program to calculate the electricity bill"
   ]
  },
  {
   "cell_type": "code",
   "execution_count": 32,
   "id": "593b2988-7bc7-44ce-b806-f41368dabe95",
   "metadata": {},
   "outputs": [],
   "source": [
    "def e_bill(n):\n",
    "    if n<=500:\n",
    "        print('your bill is Rs',n*5)\n",
    "    elif n>500 and n<=700:\n",
    "        print('your bill is Rs',n*10)\n",
    "    elif n>700 and n<=1000:\n",
    "        print('your bill is Rs',n*15)\n",
    "    elif n>1000:\n",
    "        print('your bill is Rs',n*20)"
   ]
  },
  {
   "cell_type": "code",
   "execution_count": 43,
   "id": "4492cb8a-824f-4706-975c-0719159e29eb",
   "metadata": {},
   "outputs": [],
   "source": [
    "def instructions():\n",
    "    print('Last date of paying the bill is 30 September')\n",
    "    print('After 30 September you need to pay 1000 Rs as fine')\n",
    "    print('Electricity office Mumbai')"
   ]
  },
  {
   "cell_type": "code",
   "execution_count": 45,
   "id": "06f2063e-99b0-49cc-878c-dbeddeb71205",
   "metadata": {},
   "outputs": [
    {
     "name": "stdin",
     "output_type": "stream",
     "text": [
      "Enter the name of a customer Rakhi\n",
      "Enter the unit of electricity you have used 200\n"
     ]
    },
    {
     "name": "stdout",
     "output_type": "stream",
     "text": [
      "your bill is Rs 1000\n",
      "\n",
      "Last date of paying the bill is 30 September\n",
      "After 30 September you need to pay 1000 Rs as fine\n",
      "Electricity office Mumbai\n"
     ]
    },
    {
     "name": "stdin",
     "output_type": "stream",
     "text": [
      "Enter the name of a customer Rishi\n",
      "Enter the unit of electricity you have used 500\n"
     ]
    },
    {
     "name": "stdout",
     "output_type": "stream",
     "text": [
      "your bill is Rs 2500\n",
      "\n",
      "Last date of paying the bill is 30 September\n",
      "After 30 September you need to pay 1000 Rs as fine\n",
      "Electricity office Mumbai\n"
     ]
    }
   ],
   "source": [
    "for i in range(2):\n",
    "    a= input('Enter the name of a customer')\n",
    "    n=int(input('Enter the unit of electricity you have used'))\n",
    "    e_bill(n)\n",
    "    print()\n",
    "    instructions()"
   ]
  },
  {
   "cell_type": "code",
   "execution_count": null,
   "id": "e0a8c3c0-e5b8-433a-96f9-08b86d00a93b",
   "metadata": {},
   "outputs": [],
   "source": []
  },
  {
   "cell_type": "code",
   "execution_count": null,
   "id": "d0982593-b416-4cae-9df3-df0d5ee48a91",
   "metadata": {},
   "outputs": [],
   "source": []
  },
  {
   "cell_type": "code",
   "execution_count": null,
   "id": "8114f4ed-aacf-4c56-a4d2-13791b118fe5",
   "metadata": {},
   "outputs": [],
   "source": []
  },
  {
   "cell_type": "code",
   "execution_count": null,
   "id": "c2dd00fa-2427-4cd5-8bbb-919f18f215c7",
   "metadata": {},
   "outputs": [],
   "source": []
  },
  {
   "cell_type": "code",
   "execution_count": null,
   "id": "191e5eed-907e-4a5e-ad39-c734aab773a9",
   "metadata": {},
   "outputs": [],
   "source": []
  },
  {
   "cell_type": "code",
   "execution_count": null,
   "id": "2964658c-e49d-4415-ab8c-eaa289195fc5",
   "metadata": {},
   "outputs": [],
   "source": []
  }
 ],
 "metadata": {
  "kernelspec": {
   "display_name": "Python 3 (ipykernel)",
   "language": "python",
   "name": "python3"
  },
  "language_info": {
   "codemirror_mode": {
    "name": "ipython",
    "version": 3
   },
   "file_extension": ".py",
   "mimetype": "text/x-python",
   "name": "python",
   "nbconvert_exporter": "python",
   "pygments_lexer": "ipython3",
   "version": "3.11.5"
  }
 },
 "nbformat": 4,
 "nbformat_minor": 5
}
