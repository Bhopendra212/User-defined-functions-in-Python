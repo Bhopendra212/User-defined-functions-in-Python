{
 "cells": [
  {
   "cell_type": "markdown",
   "id": "280f99e0-aea7-4137-8301-ed6ecf847020",
   "metadata": {},
   "source": [
    "# Question 1:- Write a python function to check whether a number falls within a given range 10 to 900"
   ]
  },
  {
   "cell_type": "code",
   "execution_count": 7,
   "id": "ddf51316-bad4-4cdc-a138-1d43e13c9bee",
   "metadata": {},
   "outputs": [],
   "source": [
    "def test_range(n):\n",
    "    if n in range(10,900):\n",
    "        print('%s is in the range'%str(n))\n",
    "    else:\n",
    "        print('The number is outside the given range')"
   ]
  },
  {
   "cell_type": "code",
   "execution_count": 8,
   "id": "1f0f74ce-1bda-441f-bbe5-48d4baee1bc4",
   "metadata": {},
   "outputs": [
    {
     "name": "stdout",
     "output_type": "stream",
     "text": [
      "100 is in the range\n"
     ]
    }
   ],
   "source": [
    "test_range(100)"
   ]
  },
  {
   "cell_type": "markdown",
   "id": "ed144143-377e-45cf-8207-fb4d9a2542ef",
   "metadata": {},
   "source": [
    "# Question 2:- Write a python program to multiply all the numbers in a list"
   ]
  },
  {
   "cell_type": "code",
   "execution_count": 9,
   "id": "6bb3d7da-c7a6-4505-800c-face526d4084",
   "metadata": {},
   "outputs": [],
   "source": [
    "def multiply(n):\n",
    "    total=1\n",
    "    for x in n:\n",
    "        total*=x\n",
    "    return total"
   ]
  },
  {
   "cell_type": "code",
   "execution_count": 13,
   "id": "5cd6f1f9-052f-431c-ba48-c659c0ea4bb4",
   "metadata": {},
   "outputs": [
    {
     "data": {
      "text/plain": [
       "-90"
      ]
     },
     "execution_count": 13,
     "metadata": {},
     "output_type": "execute_result"
    }
   ],
   "source": [
    "multiply((5,2,3,-3))"
   ]
  },
  {
   "cell_type": "markdown",
   "id": "91ff84e3-0b79-41f0-9b76-2ba544d930d8",
   "metadata": {},
   "source": [
    "# Question 3:- Write a program to print even numbers from the given list"
   ]
  },
  {
   "cell_type": "code",
   "execution_count": 15,
   "id": "2b396841-ccc8-4a04-a618-86ebf272cd70",
   "metadata": {},
   "outputs": [],
   "source": [
    "def even_num(l):\n",
    "    enum=[]\n",
    "    for n in l:\n",
    "        if n%2==0:\n",
    "            enum.append(n)\n",
    "    return enum"
   ]
  },
  {
   "cell_type": "code",
   "execution_count": 18,
   "id": "43d33259-7553-4b5b-9ef8-50c0ab3c9227",
   "metadata": {},
   "outputs": [
    {
     "data": {
      "text/plain": [
       "[2, 4, 6, 8]"
      ]
     },
     "execution_count": 18,
     "metadata": {},
     "output_type": "execute_result"
    }
   ],
   "source": [
    "even_num([1,2,3,4,5,6,7,8,9])"
   ]
  },
  {
   "cell_type": "markdown",
   "id": "75ff7a76-75b8-414d-a947-da4b2605a371",
   "metadata": {},
   "source": [
    "# Question 4:- Write a python function that takes a list and return a new list with distant elements from the first list"
   ]
  },
  {
   "cell_type": "code",
   "execution_count": 19,
   "id": "3cb221b2-2645-4751-9646-e56ecfef8286",
   "metadata": {},
   "outputs": [],
   "source": [
    "def unique_list(l):\n",
    "    x=[]\n",
    "    for a in l:\n",
    "        if a not in x:\n",
    "            x.append(a)\n",
    "\n",
    "    return x"
   ]
  },
  {
   "cell_type": "code",
   "execution_count": 20,
   "id": "098c0d1d-17d7-4469-a8a0-fa4b4785db70",
   "metadata": {},
   "outputs": [
    {
     "data": {
      "text/plain": [
       "[1, 2, 3, 4, 5, 6]"
      ]
     },
     "execution_count": 20,
     "metadata": {},
     "output_type": "execute_result"
    }
   ],
   "source": [
    "unique_list([1,2,3,3,3,3,4,4,5,6,6])"
   ]
  },
  {
   "cell_type": "markdown",
   "id": "e77642e7-e75a-4f29-874e-3e693eae8828",
   "metadata": {},
   "source": [
    "# Question 5:- write a program to create and print a list where the values are the squares of the numbers between 1 to 30 (both included)"
   ]
  },
  {
   "cell_type": "code",
   "execution_count": 25,
   "id": "fa91d3b4-8d9c-4ed4-8510-c2ebb5dbde21",
   "metadata": {},
   "outputs": [],
   "source": [
    "def printvalues():\n",
    "    l=list()\n",
    "    for i in range(1,31):\n",
    "        l.append(i**2)\n",
    "    print(l)"
   ]
  },
  {
   "cell_type": "code",
   "execution_count": 26,
   "id": "4322bc1d-6cc5-4325-8373-065be88eb68c",
   "metadata": {},
   "outputs": [
    {
     "name": "stdout",
     "output_type": "stream",
     "text": [
      "[1, 4, 9, 16, 25, 36, 49, 64, 81, 100, 121, 144, 169, 196, 225, 256, 289, 324, 361, 400, 441, 484, 529, 576, 625, 676, 729, 784, 841, 900]\n"
     ]
    }
   ],
   "source": [
    "printvalues()"
   ]
  },
  {
   "cell_type": "code",
   "execution_count": null,
   "id": "1390040b-aa6e-4dc2-a616-323238a8f343",
   "metadata": {},
   "outputs": [],
   "source": []
  }
 ],
 "metadata": {
  "kernelspec": {
   "display_name": "Python 3 (ipykernel)",
   "language": "python",
   "name": "python3"
  },
  "language_info": {
   "codemirror_mode": {
    "name": "ipython",
    "version": 3
   },
   "file_extension": ".py",
   "mimetype": "text/x-python",
   "name": "python",
   "nbconvert_exporter": "python",
   "pygments_lexer": "ipython3",
   "version": "3.11.5"
  }
 },
 "nbformat": 4,
 "nbformat_minor": 5
}
